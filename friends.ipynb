{
 "cells": [
  {
   "cell_type": "markdown",
   "metadata": {},
   "source": [
    "# Network analysis\n",
    "\n",
    "### Eduardo G. Altmann, School of Mathematics and Statistics, Univ of Sydney\n",
    "http://www.maths.usyd.edu.au/u/ega\n",
    "\n",
    "### Complexity, Criticality and Computation (C3) Research Camp 2016\n",
    "https://sydney.edu.au/complex-systems/events/c3camps/c3-2016.shtml"
   ]
  },
  {
   "cell_type": "code",
   "execution_count": 1,
   "metadata": {
    "collapsed": true
   },
   "outputs": [],
   "source": [
    "import networkx as net\n",
    "import json,random"
   ]
  },
  {
   "cell_type": "markdown",
   "metadata": {},
   "source": [
    "# Reading Data "
   ]
  },
  {
   "cell_type": "markdown",
   "metadata": {},
   "source": [
    "Data from \"The Koblenz Network Collection\" http://konect.uni-koblenz.de/"
   ]
  },
  {
   "cell_type": "code",
   "execution_count": 2,
   "metadata": {
    "collapsed": false
   },
   "outputs": [
    {
     "data": {
      "text/plain": [
       "420921"
      ]
     },
     "execution_count": 2,
     "metadata": {},
     "output_type": "execute_result"
    }
   ],
   "source": [
    "G=net.read_edgelist(path=\"data/out.cit-HepPh\",comments=\"%\")\n",
    "#G=net.read_edgelist(path=\"data/out.com-youtube\",comments=\"%\")\n",
    "G.size()"
   ]
  },
  {
   "cell_type": "markdown",
   "metadata": {},
   "source": [
    "# Storing the degree sequences"
   ]
  },
  {
   "cell_type": "code",
   "execution_count": 3,
   "metadata": {
    "collapsed": false
   },
   "outputs": [],
   "source": [
    "Gdegree_sequence=sorted(net.degree(G).values(),reverse=True) # degree sequence\n",
    "Gdict=net.degree(G)"
   ]
  },
  {
   "cell_type": "code",
   "execution_count": 4,
   "metadata": {
    "collapsed": false
   },
   "outputs": [],
   "source": [
    "pairs=[]\n",
    "names=[]\n",
    "values=[]\n",
    "for i in Gdict.keys():\n",
    "    pairs.append((Gdict[i],i))\n",
    "for i in sorted(pairs,reverse=True):\n",
    "    names.append(i[1])\n",
    "    values.append(i[0])\n",
    "json.dump((values,names),open(\"networks_Youtube.json\",\"w\"))"
   ]
  },
  {
   "cell_type": "markdown",
   "metadata": {},
   "source": [
    "# Have my friends more friends than I have?"
   ]
  },
  {
   "cell_type": "code",
   "execution_count": 5,
   "metadata": {
    "collapsed": false
   },
   "outputs": [
    {
     "name": "stdout",
     "output_type": "stream",
     "text": [
      "Node Name: 33208  has  13  friends\n"
     ]
    }
   ],
   "source": [
    "# Pick one node by chance and check how many neighbours it has\n",
    "oneNode=net.nodes(G)[11]\n",
    "print(\"Node Name:\",oneNode,\" has \",net.degree(G)[oneNode],\" friends\")"
   ]
  },
  {
   "cell_type": "code",
   "execution_count": 6,
   "metadata": {
    "collapsed": false
   },
   "outputs": [
    {
     "data": {
      "text/plain": [
       "35"
      ]
     },
     "execution_count": 6,
     "metadata": {},
     "output_type": "execute_result"
    }
   ],
   "source": [
    "# Pick one of its neighbours and check its degree\n",
    "neighbor=G.neighbors(oneNode)[1]\n",
    "net.degree(G)[neighbor]"
   ]
  },
  {
   "cell_type": "code",
   "execution_count": 7,
   "metadata": {
    "collapsed": false
   },
   "outputs": [
    {
     "name": "stdout",
     "output_type": "stream",
     "text": [
      "Loop \t Degree Node \t Degree Neighbor\n"
     ]
    },
    {
     "ename": "NameError",
     "evalue": "name 'H' is not defined",
     "output_type": "error",
     "traceback": [
      "\u001b[0;31m---------------------------------------------------------------------------\u001b[0m",
      "\u001b[0;31mNameError\u001b[0m                                 Traceback (most recent call last)",
      "\u001b[0;32m<ipython-input-7-8a4e9e012f37>\u001b[0m in \u001b[0;36m<module>\u001b[0;34m()\u001b[0m\n\u001b[1;32m      8\u001b[0m     \u001b[0mdnode\u001b[0m\u001b[0;34m=\u001b[0m\u001b[0mnet\u001b[0m\u001b[0;34m.\u001b[0m\u001b[0mdegree\u001b[0m\u001b[0;34m(\u001b[0m\u001b[0mG\u001b[0m\u001b[0;34m)\u001b[0m\u001b[0;34m[\u001b[0m\u001b[0moneNode\u001b[0m\u001b[0;34m]\u001b[0m\u001b[0;34m\u001b[0m\u001b[0m\n\u001b[1;32m      9\u001b[0m     \u001b[0mrandom_index2\u001b[0m\u001b[0;34m=\u001b[0m\u001b[0mrandom\u001b[0m\u001b[0;34m.\u001b[0m\u001b[0mrandint\u001b[0m\u001b[0;34m(\u001b[0m\u001b[0;36m0\u001b[0m\u001b[0;34m,\u001b[0m\u001b[0mdnode\u001b[0m\u001b[0;34m-\u001b[0m\u001b[0;36m1\u001b[0m\u001b[0;34m)\u001b[0m\u001b[0;34m\u001b[0m\u001b[0m\n\u001b[0;32m---> 10\u001b[0;31m     \u001b[0mneighbor\u001b[0m\u001b[0;34m=\u001b[0m\u001b[0mH\u001b[0m\u001b[0;34m.\u001b[0m\u001b[0mneighbors\u001b[0m\u001b[0;34m(\u001b[0m\u001b[0moneNode\u001b[0m\u001b[0;34m)\u001b[0m\u001b[0;34m[\u001b[0m\u001b[0mrandom_index2\u001b[0m\u001b[0;34m]\u001b[0m\u001b[0;34m\u001b[0m\u001b[0m\n\u001b[0m\u001b[1;32m     11\u001b[0m     \u001b[0mdneighbor\u001b[0m\u001b[0;34m=\u001b[0m\u001b[0mnet\u001b[0m\u001b[0;34m.\u001b[0m\u001b[0mdegree\u001b[0m\u001b[0;34m(\u001b[0m\u001b[0mG\u001b[0m\u001b[0;34m)\u001b[0m\u001b[0;34m[\u001b[0m\u001b[0mneighbor\u001b[0m\u001b[0;34m]\u001b[0m\u001b[0;34m\u001b[0m\u001b[0m\n\u001b[1;32m     12\u001b[0m     \u001b[0mprint\u001b[0m\u001b[0;34m(\u001b[0m\u001b[0mloops\u001b[0m\u001b[0;34m+\u001b[0m\u001b[0;36m1\u001b[0m\u001b[0;34m,\u001b[0m\u001b[0;34m\":\\t\"\u001b[0m\u001b[0;34m,\u001b[0m\u001b[0mdnode\u001b[0m\u001b[0;34m,\u001b[0m\u001b[0;34m\"\\t\\t\"\u001b[0m\u001b[0;34m,\u001b[0m\u001b[0mdneighbor\u001b[0m\u001b[0;34m)\u001b[0m\u001b[0;34m\u001b[0m\u001b[0m\n",
      "\u001b[0;31mNameError\u001b[0m: name 'H' is not defined"
     ]
    }
   ],
   "source": [
    "# automate the above \n",
    "nodes=[]\n",
    "neighbors=[]\n",
    "print(\"Loop \\t Degree Node \\t Degree Neighbor\")\n",
    "for loops in range(100):\n",
    "    random_index=random.randint(0,len(net.nodes(G))-1)\n",
    "    oneNode=net.nodes(G)[random_index]\n",
    "    dnode=net.degree(G)[oneNode]\n",
    "    random_index2=random.randint(0,dnode-1)\n",
    "    neighbor=H.neighbors(oneNode)[random_index2]\n",
    "    dneighbor=net.degree(G)[neighbor]\n",
    "    print(loops+1,\":\\t\",dnode,\"\\t\\t\",dneighbor)\n",
    "    nodes.append(dnode)\n",
    "    neighbors.append(dneighbor)\n",
    "print(\"Average:\",1.0*sum(nodes)/len(nodes),\"\\t\\t\",1.0*sum(neighbors)/len(neighbors))\n"
   ]
  },
  {
   "cell_type": "code",
   "execution_count": null,
   "metadata": {
    "collapsed": false
   },
   "outputs": [],
   "source": [
    "# automate the above \n",
    "nodes=[]\n",
    "neighbors=[]\n",
    "whowon=[]\n",
    "ww=0\n",
    "Nloops=20\n",
    "print(\"Loop \\t Degree Node \\t Degree Neighbor \\t Who won?\")\n",
    "for loops in range(Nloops):\n",
    "    random_index=random.randint(0,len(net.nodes(G))-1)\n",
    "    oneNode=net.nodes(G)[random_index]\n",
    "    dnode=net.degree(G)[oneNode]\n",
    "    random_index2=random.randint(0,dnode-1)\n",
    "    neighbor=G.neighbors(oneNode)[random_index2]\n",
    "    dneighbor=net.degree(G)[neighbor]\n",
    "    if(dnode>dneighbor):\n",
    "        ww=0\n",
    "    else:\n",
    "        ww=1\n",
    "    print(loops+1,\":\\t\",dnode,\"\\t\\t\",dneighbor,\"\\t\\t\\t\",ww)\n",
    "    nodes.append(dnode)\n",
    "    neighbors.append(dneighbor)\n",
    "    whowon.append(ww)\n",
    "\n",
    "print(\"Average:\",1.0*sum(nodes)/len(nodes),\"\\t\\t\",1.0*sum(neighbors)/len(neighbors),\"\\t\\t\\t\",sum(whowon)/float(Nloops))"
   ]
  },
  {
   "cell_type": "code",
   "execution_count": null,
   "metadata": {
    "collapsed": true
   },
   "outputs": [],
   "source": []
  }
 ],
 "metadata": {
  "kernelspec": {
   "display_name": "Python 3",
   "language": "python",
   "name": "python3"
  },
  "language_info": {
   "codemirror_mode": {
    "name": "ipython",
    "version": 3
   },
   "file_extension": ".py",
   "mimetype": "text/x-python",
   "name": "python",
   "nbconvert_exporter": "python",
   "pygments_lexer": "ipython3",
   "version": "3.5.2"
  }
 },
 "nbformat": 4,
 "nbformat_minor": 1
}
